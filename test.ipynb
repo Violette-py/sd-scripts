{
 "cells": [
  {
   "cell_type": "code",
   "execution_count": 2,
   "id": "0e43f0ca",
   "metadata": {},
   "outputs": [
    {
     "name": "stderr",
     "output_type": "stream",
     "text": [
      "Loading pipeline components...:   0%|          | 0/7 [00:00<?, ?it/s]"
     ]
    },
    {
     "name": "stderr",
     "output_type": "stream",
     "text": [
      "Loading pipeline components...:  86%|████████▌ | 6/7 [00:22<00:04,  4.05s/it]/home/mlsnrs/data/miniconda3/envs/cpy_sd/lib/python3.10/site-packages/transformers/tokenization_utils_base.py:1601: FutureWarning: `clean_up_tokenization_spaces` was not set. It will be set to `True` by default. This behavior will be depracted in transformers v4.45, and will be then set to `False` by default. For more details check this issue: https://github.com/huggingface/transformers/issues/31884\n",
      "  warnings.warn(\n",
      "Loading pipeline components...: 100%|██████████| 7/7 [00:22<00:00,  3.23s/it]\n"
     ]
    },
    {
     "ename": "AttributeError",
     "evalue": "'UNet2DConditionModel' object has no attribute 'lora_te_text_model_encoder_layers_0_mlp_fc1'",
     "output_type": "error",
     "traceback": [
      "\u001b[0;31m---------------------------------------------------------------------------\u001b[0m",
      "\u001b[0;31mAttributeError\u001b[0m                            Traceback (most recent call last)",
      "Cell \u001b[0;32mIn[2], line 46\u001b[0m\n\u001b[1;32m     43\u001b[0m                 visited\u001b[38;5;241m.\u001b[39mappend(key)\n\u001b[1;32m     44\u001b[0m     \u001b[38;5;28mprint\u001b[39m(\u001b[38;5;124mf\u001b[39m\u001b[38;5;124m\"\u001b[39m\u001b[38;5;124mLoaded LoRA weights: \u001b[39m\u001b[38;5;132;01m{\u001b[39;00m\u001b[38;5;28mlen\u001b[39m(visited)\u001b[38;5;241m/\u001b[39m\u001b[38;5;241m/\u001b[39m\u001b[38;5;241m2\u001b[39m\u001b[38;5;132;01m}\u001b[39;00m\u001b[38;5;124m layers injected\u001b[39m\u001b[38;5;124m\"\u001b[39m)\n\u001b[0;32m---> 46\u001b[0m \u001b[43mload_lora_weights\u001b[49m\u001b[43m(\u001b[49m\u001b[43mpipe\u001b[49m\u001b[43m,\u001b[49m\u001b[43m \u001b[49m\u001b[43mstate_dict\u001b[49m\u001b[43m,\u001b[49m\u001b[43m \u001b[49m\u001b[43malpha\u001b[49m\u001b[38;5;241;43m=\u001b[39;49m\u001b[38;5;241;43m0.8\u001b[39;49m\u001b[43m)\u001b[49m\n\u001b[1;32m     48\u001b[0m \u001b[38;5;66;03m# ===== 推理 =====\u001b[39;00m\n\u001b[1;32m     49\u001b[0m prompt \u001b[38;5;241m=\u001b[39m \u001b[38;5;124m\"\u001b[39m\u001b[38;5;124ma cute pokemon, digital art, highly detailed\u001b[39m\u001b[38;5;124m\"\u001b[39m\n",
      "Cell \u001b[0;32mIn[2], line 36\u001b[0m, in \u001b[0;36mload_lora_weights\u001b[0;34m(pipe, state_dict, alpha)\u001b[0m\n\u001b[1;32m     34\u001b[0m         curr_layer \u001b[38;5;241m=\u001b[39m curr_layer[\u001b[38;5;28mint\u001b[39m(info)]\n\u001b[1;32m     35\u001b[0m     \u001b[38;5;28;01melse\u001b[39;00m:\n\u001b[0;32m---> 36\u001b[0m         curr_layer \u001b[38;5;241m=\u001b[39m \u001b[38;5;28;43mgetattr\u001b[39;49m\u001b[43m(\u001b[49m\u001b[43mcurr_layer\u001b[49m\u001b[43m,\u001b[49m\u001b[43m \u001b[49m\u001b[43minfo\u001b[49m\u001b[43m)\u001b[49m\n\u001b[1;32m     37\u001b[0m \u001b[38;5;28;01mif\u001b[39;00m \u001b[38;5;124m\"\u001b[39m\u001b[38;5;124mlora_down\u001b[39m\u001b[38;5;124m\"\u001b[39m \u001b[38;5;129;01min\u001b[39;00m key:\n\u001b[1;32m     38\u001b[0m     down_weight \u001b[38;5;241m=\u001b[39m state_dict[key]\n",
      "File \u001b[0;32m~/data/miniconda3/envs/cpy_sd/lib/python3.10/site-packages/diffusers/models/modeling_utils.py:221\u001b[0m, in \u001b[0;36mModelMixin.__getattr__\u001b[0;34m(self, name)\u001b[0m\n\u001b[1;32m    218\u001b[0m     \u001b[38;5;28;01mreturn\u001b[39;00m \u001b[38;5;28mself\u001b[39m\u001b[38;5;241m.\u001b[39m_internal_dict[name]\n\u001b[1;32m    220\u001b[0m \u001b[38;5;66;03m# call PyTorch's https://pytorch.org/docs/stable/_modules/torch/nn/modules/module.html#Module\u001b[39;00m\n\u001b[0;32m--> 221\u001b[0m \u001b[38;5;28;01mreturn\u001b[39;00m \u001b[38;5;28;43msuper\u001b[39;49m\u001b[43m(\u001b[49m\u001b[43m)\u001b[49m\u001b[38;5;241;43m.\u001b[39;49m\u001b[38;5;21;43m__getattr__\u001b[39;49m\u001b[43m(\u001b[49m\u001b[43mname\u001b[49m\u001b[43m)\u001b[49m\n",
      "File \u001b[0;32m~/data/miniconda3/envs/cpy_sd/lib/python3.10/site-packages/torch/nn/modules/module.py:1695\u001b[0m, in \u001b[0;36mModule.__getattr__\u001b[0;34m(self, name)\u001b[0m\n\u001b[1;32m   1693\u001b[0m     \u001b[38;5;28;01mif\u001b[39;00m name \u001b[38;5;129;01min\u001b[39;00m modules:\n\u001b[1;32m   1694\u001b[0m         \u001b[38;5;28;01mreturn\u001b[39;00m modules[name]\n\u001b[0;32m-> 1695\u001b[0m \u001b[38;5;28;01mraise\u001b[39;00m \u001b[38;5;167;01mAttributeError\u001b[39;00m(\u001b[38;5;124mf\u001b[39m\u001b[38;5;124m\"\u001b[39m\u001b[38;5;124m'\u001b[39m\u001b[38;5;132;01m{\u001b[39;00m\u001b[38;5;28mtype\u001b[39m(\u001b[38;5;28mself\u001b[39m)\u001b[38;5;241m.\u001b[39m\u001b[38;5;18m__name__\u001b[39m\u001b[38;5;132;01m}\u001b[39;00m\u001b[38;5;124m'\u001b[39m\u001b[38;5;124m object has no attribute \u001b[39m\u001b[38;5;124m'\u001b[39m\u001b[38;5;132;01m{\u001b[39;00mname\u001b[38;5;132;01m}\u001b[39;00m\u001b[38;5;124m'\u001b[39m\u001b[38;5;124m\"\u001b[39m)\n",
      "\u001b[0;31mAttributeError\u001b[0m: 'UNet2DConditionModel' object has no attribute 'lora_te_text_model_encoder_layers_0_mlp_fc1'"
     ]
    }
   ],
   "source": [
    "import torch\n",
    "import matplotlib.pyplot as plt\n",
    "from diffusers import StableDiffusionPipeline\n",
    "from safetensors.torch import load_file\n",
    "\n",
    "# 基础 SD1.5 模型，可以换成你需要的\n",
    "# base_model = \"runwayml/stable-diffusion-v1-5\"\n",
    "base_model = \"/home/mlsnrs/data/common_model/models--runwayml--stable-diffusion-v1-5/snapshots/451f4fe16113bff5a5d2269ed5ad43b0592e9a14\"\n",
    "\n",
    "# LoRA 权重路径 (你保存的 .safetensors 或者 .bin 文件)\n",
    "lora_path = \"./output/pokemon_small/pokemon_small.safetensors\"\n",
    "\n",
    "# 加载 pipeline\n",
    "device = \"cuda:7\"\n",
    "pipe = StableDiffusionPipeline.from_pretrained(\n",
    "    base_model,\n",
    "    torch_dtype=torch.float16\n",
    ").to(device)\n",
    "\n",
    "# ===== 加载 LoRA 权重 =====\n",
    "# 如果你是 safetensors 格式\n",
    "state_dict = load_file(lora_path)\n",
    "\n",
    "# 遍历 LoRA 权重，注入到 UNet / TextEncoder\n",
    "def load_lora_weights(pipe, state_dict, alpha=1.0):\n",
    "    visited = []\n",
    "    for key in state_dict:\n",
    "        # 例子: lora_unet_down_blocks_0_attentions_0_query.lora_down.weight\n",
    "        if \"lora_down\" in key or \"lora_up\" in key:\n",
    "            layer_infos = key.split(\".\")[0:-2]\n",
    "            curr_layer = pipe.unet\n",
    "            for info in layer_infos:\n",
    "                if info.isdigit():\n",
    "                    curr_layer = curr_layer[int(info)]\n",
    "                else:\n",
    "                    curr_layer = getattr(curr_layer, info)\n",
    "            if \"lora_down\" in key:\n",
    "                down_weight = state_dict[key]\n",
    "                up_weight = state_dict[key.replace(\"lora_down\", \"lora_up\")]\n",
    "                # LoRA 权重注入\n",
    "                weight = (up_weight @ down_weight) * alpha\n",
    "                curr_layer.weight.data += weight.to(curr_layer.weight.data.device, dtype=curr_layer.weight.data.dtype)\n",
    "                visited.append(key)\n",
    "    print(f\"Loaded LoRA weights: {len(visited)//2} layers injected\")\n",
    "\n",
    "load_lora_weights(pipe, state_dict, alpha=0.8)\n",
    "\n",
    "# ===== 推理 =====\n",
    "prompt = \"a cute pokemon, digital art, highly detailed\"\n",
    "image = pipe(prompt, num_inference_steps=25, guidance_scale=7.5).images[0]\n",
    "\n",
    "# 保存图片\n",
    "# image.save(\"output.png\")\n",
    "\n",
    "plt.imshow(image)\n",
    "plt.axis(\"off\")\n",
    "plt.show()"
   ]
  }
 ],
 "metadata": {
  "kernelspec": {
   "display_name": "cpy_sd",
   "language": "python",
   "name": "python3"
  },
  "language_info": {
   "codemirror_mode": {
    "name": "ipython",
    "version": 3
   },
   "file_extension": ".py",
   "mimetype": "text/x-python",
   "name": "python",
   "nbconvert_exporter": "python",
   "pygments_lexer": "ipython3",
   "version": "3.10.18"
  }
 },
 "nbformat": 4,
 "nbformat_minor": 5
}
